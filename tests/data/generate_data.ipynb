{
 "cells": [
  {
   "cell_type": "markdown",
   "metadata": {},
   "source": [
    "## Unit test data\n",
    "\n",
    "This directory contains very small, toy, data sets that are used for unit tests."
   ]
  },
  {
   "cell_type": "code",
   "execution_count": null,
   "metadata": {},
   "outputs": [],
   "source": [
    "import lsdb\n",
    "from astropy.table import Table\n",
    "\n",
    "\n",
    "def construct_df_from_fits(file_path):\n",
    "    dat = Table.read(file_path, format=\"fits\")\n",
    "    return dat.to_pandas()\n",
    "\n",
    "\n",
    "def generate_catalog(catalog_name):\n",
    "    raw_fits = f\"./raw/{catalog_name}.fits\"\n",
    "    catalog = lsdb.from_dataframe(\n",
    "        construct_df_from_fits(raw_fits),\n",
    "        catalog_name=catalog_name,\n",
    "        catalog_type=\"object\",\n",
    "    )\n",
    "    catalog.to_hipscat(f\"hipscat/{catalog_name}\")"
   ]
  },
  {
   "cell_type": "markdown",
   "metadata": {},
   "source": [
    "## Galaxy samples"
   ]
  },
  {
   "cell_type": "code",
   "execution_count": null,
   "metadata": {},
   "outputs": [],
   "source": [
    "generate_catalog(\"DATA\")\n",
    "generate_catalog(\"DR7-lrg\")"
   ]
  },
  {
   "cell_type": "markdown",
   "metadata": {},
   "source": [
    "## Random samples"
   ]
  },
  {
   "cell_type": "code",
   "execution_count": null,
   "metadata": {},
   "outputs": [],
   "source": [
    "generate_catalog(\"RAND\")\n",
    "generate_catalog(\"DR7-lrg-rand\")"
   ]
  }
 ],
 "metadata": {
  "kernelspec": {
   "display_name": "corrgi",
   "language": "python",
   "name": "python3"
  },
  "language_info": {
   "codemirror_mode": {
    "name": "ipython",
    "version": 3
   },
   "file_extension": ".py",
   "mimetype": "text/x-python",
   "name": "python",
   "nbconvert_exporter": "python",
   "pygments_lexer": "ipython3",
   "version": "3.11.9"
  }
 },
 "nbformat": 4,
 "nbformat_minor": 2
}
